{
 "cells": [
  {
   "cell_type": "code",
   "execution_count": 6,
   "id": "0420eaca",
   "metadata": {},
   "outputs": [
    {
     "name": "stdout",
     "output_type": "stream",
     "text": [
      "Please enter First Number23\n",
      "Please enter second number7\n",
      "Addition of 23 and 7  is: 30\n"
     ]
    }
   ],
   "source": [
    "num1 = int(input(\"Please enter First Number\"));\n",
    "\n",
    "num2 = int(input(\"Please enter second number\"));\n",
    "num3 = num1+num2; \n",
    "print(\"Addition of {0} and {1}  is: {2}\" .format(num1,num2,num3));\n"
   ]
  },
  {
   "cell_type": "code",
   "execution_count": 1,
   "id": "e25846d1",
   "metadata": {},
   "outputs": [
    {
     "ename": "SyntaxError",
     "evalue": "invalid syntax (<ipython-input-1-14a0c1aadcb0>, line 3)",
     "output_type": "error",
     "traceback": [
      "\u001b[1;36m  File \u001b[1;32m\"<ipython-input-1-14a0c1aadcb0>\"\u001b[1;36m, line \u001b[1;32m3\u001b[0m\n\u001b[1;33m    print(\"{0},{1}\" %lname,%fname);\u001b[0m\n\u001b[1;37m                           ^\u001b[0m\n\u001b[1;31mSyntaxError\u001b[0m\u001b[1;31m:\u001b[0m invalid syntax\n"
     ]
    }
   ],
   "source": [
    "fname = input(\"Enter First Name\");\n",
    "lname = input(\"Enter Last Name\");\n",
    "print(\"{0},{1}\" %lname,%fname);"
   ]
  },
  {
   "cell_type": "markdown",
   "id": "059b7502",
   "metadata": {},
   "source": [
    "##### subjject1 = int(input(\"Please enter Subject 1 Marks\"));\n",
    "subjject2 = int(input(\"Please enter Subject 2 Marks\"));\n",
    "subjject3 = int(input(\"Please enter Subject 3 Marks\"));\n",
    "subjject4 = int(input(\"Please enter Subject 4 Marks\"));\n",
    "subjject5 = int(input(\"Please enter Subject 5 Marks\"));\n",
    "\n",
    "total = subjject1+subjject2+subjject3+subjject4+subjject5;\n",
    "\n",
    "if total < 100 and total > 80:\n",
    "    print(\"Grade A+\");\n",
    "elif total < 80 and total > 70:\n",
    "    print(\"Grade A\");\n",
    "elif total < 70 and total > 60 :\n",
    "    print(\"Grade B\");\n",
    "elif total < 60 and total > 50 :\n",
    "    print(\"Grade C\");\n",
    "else:\n",
    "    print(\"Failed\");\n",
    "    \n",
    "\n",
    "\n"
   ]
  },
  {
   "cell_type": "markdown",
   "id": "75965970",
   "metadata": {},
   "source": [
    "##### "
   ]
  }
 ],
 "metadata": {
  "kernelspec": {
   "display_name": "Python 3",
   "language": "python",
   "name": "python3"
  },
  "language_info": {
   "codemirror_mode": {
    "name": "ipython",
    "version": 3
   },
   "file_extension": ".py",
   "mimetype": "text/x-python",
   "name": "python",
   "nbconvert_exporter": "python",
   "pygments_lexer": "ipython3",
   "version": "3.8.8"
  }
 },
 "nbformat": 4,
 "nbformat_minor": 5
}
